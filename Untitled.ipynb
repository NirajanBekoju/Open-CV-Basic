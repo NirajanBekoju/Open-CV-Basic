{
 "cells": [
  {
   "cell_type": "code",
   "execution_count": 1,
   "metadata": {},
   "outputs": [],
   "source": [
    "import cv2"
   ]
  },
  {
   "cell_type": "code",
   "execution_count": 2,
   "metadata": {},
   "outputs": [],
   "source": [
    "image = cv2.imread('we.jpg')"
   ]
  },
  {
   "cell_type": "code",
   "execution_count": 3,
   "metadata": {},
   "outputs": [
    {
     "name": "stdout",
     "output_type": "stream",
     "text": [
      "[[[ 46  49  77]\n",
      "  [ 69  72 100]\n",
      "  [ 73  77 106]\n",
      "  ...\n",
      "  [ 34  47  55]\n",
      "  [ 31  45  51]\n",
      "  [ 29  43  49]]\n",
      "\n",
      " [[ 51  52  80]\n",
      "  [ 72  75 103]\n",
      "  [ 77  80 108]\n",
      "  ...\n",
      "  [ 42  55  63]\n",
      "  [ 40  54  60]\n",
      "  [ 39  53  59]]\n",
      "\n",
      " [[ 50  49  75]\n",
      "  [ 72  73  99]\n",
      "  [ 76  80 105]\n",
      "  ...\n",
      "  [ 39  52  60]\n",
      "  [ 39  53  59]\n",
      "  [ 39  53  59]]\n",
      "\n",
      " ...\n",
      "\n",
      " [[ 78  66  18]\n",
      "  [153 137  91]\n",
      "  [182 152 111]\n",
      "  ...\n",
      "  [ 60  57  59]\n",
      "  [ 60  57  59]\n",
      "  [ 59  56  58]]\n",
      "\n",
      " [[ 89  82  27]\n",
      "  [164 150  98]\n",
      "  [188 157 112]\n",
      "  ...\n",
      "  [ 60  57  59]\n",
      "  [ 60  57  59]\n",
      "  [ 59  56  58]]\n",
      "\n",
      " [[ 93  89  31]\n",
      "  [167 153 100]\n",
      "  [187 154 108]\n",
      "  ...\n",
      "  [ 60  57  59]\n",
      "  [ 60  57  59]\n",
      "  [ 59  56  58]]]\n"
     ]
    }
   ],
   "source": [
    "print(image)"
   ]
  },
  {
   "cell_type": "code",
   "execution_count": 21,
   "metadata": {},
   "outputs": [
    {
     "name": "stdout",
     "output_type": "stream",
     "text": [
      "[[[ 41.4  44.1  69.3]\n",
      "  [ 62.1  64.8  90. ]\n",
      "  [ 65.7  69.3  95.4]\n",
      "  ...\n",
      "  [ 30.6  42.3  49.5]\n",
      "  [ 27.9  40.5  45.9]\n",
      "  [ 26.1  38.7  44.1]]\n",
      "\n",
      " [[ 45.9  46.8  72. ]\n",
      "  [ 64.8  67.5  92.7]\n",
      "  [ 69.3  72.   97.2]\n",
      "  ...\n",
      "  [ 37.8  49.5  56.7]\n",
      "  [ 36.   48.6  54. ]\n",
      "  [ 35.1  47.7  53.1]]\n",
      "\n",
      " [[ 45.   44.1  67.5]\n",
      "  [ 64.8  65.7  89.1]\n",
      "  [ 68.4  72.   94.5]\n",
      "  ...\n",
      "  [ 35.1  46.8  54. ]\n",
      "  [ 35.1  47.7  53.1]\n",
      "  [ 35.1  47.7  53.1]]\n",
      "\n",
      " ...\n",
      "\n",
      " [[ 70.2  59.4  16.2]\n",
      "  [137.7 123.3  81.9]\n",
      "  [163.8 136.8  99.9]\n",
      "  ...\n",
      "  [ 54.   51.3  53.1]\n",
      "  [ 54.   51.3  53.1]\n",
      "  [ 53.1  50.4  52.2]]\n",
      "\n",
      " [[ 80.1  73.8  24.3]\n",
      "  [147.6 135.   88.2]\n",
      "  [169.2 141.3 100.8]\n",
      "  ...\n",
      "  [ 54.   51.3  53.1]\n",
      "  [ 54.   51.3  53.1]\n",
      "  [ 53.1  50.4  52.2]]\n",
      "\n",
      " [[ 83.7  80.1  27.9]\n",
      "  [150.3 137.7  90. ]\n",
      "  [168.3 138.6  97.2]\n",
      "  ...\n",
      "  [ 54.   51.3  53.1]\n",
      "  [ 54.   51.3  53.1]\n",
      "  [ 53.1  50.4  52.2]]]\n"
     ]
    }
   ],
   "source": [
    "scalar = 0.9 * image\n",
    "print(scalar)"
   ]
  },
  {
   "cell_type": "code",
   "execution_count": 22,
   "metadata": {},
   "outputs": [],
   "source": [
    "cv2.imshow('image', image)\n",
    "cv2.waitKey()\n",
    "cv2.destroyAllWindows()"
   ]
  },
  {
   "cell_type": "code",
   "execution_count": 23,
   "metadata": {},
   "outputs": [],
   "source": [
    "cv2.imshow('Scalar', scalar)\n",
    "cv2.waitKey()\n",
    "cv2.destroyAllWindows()"
   ]
  },
  {
   "cell_type": "code",
   "execution_count": 25,
   "metadata": {},
   "outputs": [
    {
     "name": "stdout",
     "output_type": "stream",
     "text": [
      "uint8\n"
     ]
    }
   ],
   "source": [
    "print(image.dtype)"
   ]
  },
  {
   "cell_type": "code",
   "execution_count": 26,
   "metadata": {},
   "outputs": [
    {
     "name": "stdout",
     "output_type": "stream",
     "text": [
      "(240, 240, 3)\n"
     ]
    }
   ],
   "source": [
    "print(image.shape)"
   ]
  },
  {
   "cell_type": "code",
   "execution_count": null,
   "metadata": {},
   "outputs": [],
   "source": []
  }
 ],
 "metadata": {
  "kernelspec": {
   "display_name": "Python 3",
   "language": "python",
   "name": "python3"
  },
  "language_info": {
   "codemirror_mode": {
    "name": "ipython",
    "version": 3
   },
   "file_extension": ".py",
   "mimetype": "text/x-python",
   "name": "python",
   "nbconvert_exporter": "python",
   "pygments_lexer": "ipython3",
   "version": "3.8.2"
  }
 },
 "nbformat": 4,
 "nbformat_minor": 4
}
